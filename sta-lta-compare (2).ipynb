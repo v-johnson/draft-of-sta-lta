{
 "cells": [
  {
   "cell_type": "code",
   "execution_count": 1,
   "id": "69e67e23",
   "metadata": {},
   "outputs": [
    {
     "data": {
      "text/plain": [
       "'\\nLast Updated 8/26/2021, V1\\nUpdates to filtering needed.\\n\\nThis code applies an STA-LTA method to given data, applying a highpass filter and saves plots of traces and detections.\\n\\n'"
      ]
     },
     "execution_count": 1,
     "metadata": {},
     "output_type": "execute_result"
    }
   ],
   "source": [
    "'''\n",
    "Last Updated 8/26/2021, V1\n",
    "Updates to filtering needed.\n",
    "\n",
    "This code applies an STA-LTA method to given data, applying a highpass filter and saves plots of traces and detections.\n",
    "\n",
    "'''"
   ]
  },
  {
   "cell_type": "code",
   "execution_count": 2,
   "id": "3ff65430",
   "metadata": {},
   "outputs": [],
   "source": [
    "import obspy\n",
    "from obspy import UTCDateTime\n",
    "from obspy.clients.fdsn import Client\n",
    "\n",
    "from obspy.signal.trigger import plot_trigger\n",
    "import matplotlib.pyplot as plt\n",
    "\n",
    "\n",
    "from obspy.signal.trigger import trigger_onset\n",
    "from obspy.signal.trigger import z_detect\n",
    "from obspy.signal.trigger import classic_sta_lta\n",
    "from obspy.signal.trigger import recursive_sta_lta\n",
    "\n",
    "from obspy import read, read_inventory\n",
    "\n",
    "import re\n",
    "import os\n",
    "\n",
    "from obspy.core.util import NamedTemporaryFile\n",
    "from obspy.clients.iris import Client as OldIris_Client\n",
    "\n",
    "from obspy.io.xseed.core import _read_resp\n",
    "\n",
    "#%matplotlib notebook"
   ]
  },
  {
   "cell_type": "code",
   "execution_count": 6,
   "id": "c213dfdd",
   "metadata": {},
   "outputs": [
    {
     "ename": "ValueError",
     "evalue": "No matching response information found.",
     "output_type": "error",
     "traceback": [
      "\u001b[0;31m---------------------------------------------------------------------------\u001b[0m",
      "\u001b[0;31mValueError\u001b[0m                                Traceback (most recent call last)",
      "\u001b[0;32m<ipython-input-6-04d4eb46251a>\u001b[0m in \u001b[0;36m<module>\u001b[0;34m\u001b[0m\n\u001b[1;32m     37\u001b[0m \u001b[0mtr\u001b[0m \u001b[0;34m=\u001b[0m \u001b[0mst\u001b[0m\u001b[0;34m[\u001b[0m\u001b[0;36m0\u001b[0m\u001b[0;34m]\u001b[0m\u001b[0;34m\u001b[0m\u001b[0;34m\u001b[0m\u001b[0m\n\u001b[1;32m     38\u001b[0m \u001b[0minv\u001b[0m \u001b[0;34m=\u001b[0m \u001b[0m_read_resp\u001b[0m\u001b[0;34m(\u001b[0m\u001b[0;34m\"/data/fast1/time/RESP.YE.N303.GPZ.1000SPS.12DB\"\u001b[0m\u001b[0;34m)\u001b[0m\u001b[0;34m\u001b[0m\u001b[0;34m\u001b[0m\u001b[0m\n\u001b[0;32m---> 39\u001b[0;31m \u001b[0mtr\u001b[0m\u001b[0;34m.\u001b[0m\u001b[0mattach_response\u001b[0m\u001b[0;34m(\u001b[0m\u001b[0minv\u001b[0m\u001b[0;34m)\u001b[0m\u001b[0;34m\u001b[0m\u001b[0;34m\u001b[0m\u001b[0m\n\u001b[0m\u001b[1;32m     40\u001b[0m \u001b[0mpre_filt\u001b[0m \u001b[0;34m=\u001b[0m \u001b[0;34m[\u001b[0m\u001b[0;36m0.001\u001b[0m\u001b[0;34m,\u001b[0m \u001b[0;36m0.005\u001b[0m\u001b[0;34m,\u001b[0m \u001b[0;36m45\u001b[0m\u001b[0;34m,\u001b[0m \u001b[0;36m50\u001b[0m\u001b[0;34m]\u001b[0m\u001b[0;34m\u001b[0m\u001b[0;34m\u001b[0m\u001b[0m\n\u001b[1;32m     41\u001b[0m tr.remove_response(inventory=inv, pre_filt=pre_filt, output=\"DISP\",\n",
      "\u001b[0;32m~/.local/lib/python3.9/site-packages/obspy/core/trace.py\u001b[0m in \u001b[0;36mattach_response\u001b[0;34m(self, inventories)\u001b[0m\n\u001b[1;32m   2644\u001b[0m             \u001b[0meach\u001b[0m \u001b[0mtrace\u001b[0m \u001b[0;32min\u001b[0m \u001b[0mthe\u001b[0m \u001b[0mstream\u001b[0m\u001b[0;34m.\u001b[0m\u001b[0;34m\u001b[0m\u001b[0;34m\u001b[0m\u001b[0m\n\u001b[1;32m   2645\u001b[0m         \"\"\"\n\u001b[0;32m-> 2646\u001b[0;31m         \u001b[0mself\u001b[0m\u001b[0;34m.\u001b[0m\u001b[0mstats\u001b[0m\u001b[0;34m.\u001b[0m\u001b[0mresponse\u001b[0m \u001b[0;34m=\u001b[0m \u001b[0mself\u001b[0m\u001b[0;34m.\u001b[0m\u001b[0m_get_response\u001b[0m\u001b[0;34m(\u001b[0m\u001b[0minventories\u001b[0m\u001b[0;34m)\u001b[0m\u001b[0;34m\u001b[0m\u001b[0;34m\u001b[0m\u001b[0m\n\u001b[0m\u001b[1;32m   2647\u001b[0m \u001b[0;34m\u001b[0m\u001b[0m\n\u001b[1;32m   2648\u001b[0m     \u001b[0;34m@\u001b[0m\u001b[0m_add_processing_info\u001b[0m\u001b[0;34m\u001b[0m\u001b[0;34m\u001b[0m\u001b[0m\n",
      "\u001b[0;32m~/.local/lib/python3.9/site-packages/obspy/core/trace.py\u001b[0m in \u001b[0;36m_get_response\u001b[0;34m(self, inventories)\u001b[0m\n\u001b[1;32m   2610\u001b[0m         \u001b[0;32melif\u001b[0m \u001b[0mlen\u001b[0m\u001b[0;34m(\u001b[0m\u001b[0mresponses\u001b[0m\u001b[0;34m)\u001b[0m \u001b[0;34m<\u001b[0m \u001b[0;36m1\u001b[0m\u001b[0;34m:\u001b[0m\u001b[0;34m\u001b[0m\u001b[0;34m\u001b[0m\u001b[0m\n\u001b[1;32m   2611\u001b[0m             \u001b[0mmsg\u001b[0m \u001b[0;34m=\u001b[0m \u001b[0;34m\"No matching response information found.\"\u001b[0m\u001b[0;34m\u001b[0m\u001b[0;34m\u001b[0m\u001b[0m\n\u001b[0;32m-> 2612\u001b[0;31m             \u001b[0;32mraise\u001b[0m \u001b[0mValueError\u001b[0m\u001b[0;34m(\u001b[0m\u001b[0mmsg\u001b[0m\u001b[0;34m)\u001b[0m\u001b[0;34m\u001b[0m\u001b[0;34m\u001b[0m\u001b[0m\n\u001b[0m\u001b[1;32m   2613\u001b[0m         \u001b[0;32mreturn\u001b[0m \u001b[0mresponses\u001b[0m\u001b[0;34m[\u001b[0m\u001b[0;36m0\u001b[0m\u001b[0;34m]\u001b[0m\u001b[0;34m\u001b[0m\u001b[0;34m\u001b[0m\u001b[0m\n\u001b[1;32m   2614\u001b[0m \u001b[0;34m\u001b[0m\u001b[0m\n",
      "\u001b[0;31mValueError\u001b[0m: No matching response information found."
     ]
    }
   ],
   "source": [
    "'''\n",
    "Handles instrument response and reads desired files.\n",
    "'''\n",
    "\n",
    "# Applicable to Whillans Ice Plain Data only.\n",
    "# client = Client(\"IRIS\")\n",
    "t1 = UTCDateTime(\"2019-01-10T00:00:00\")\n",
    "t2 = UTCDateTime(\"2019-01-11T00:00:00\")\n",
    "#st = client.get_waveforms(\"2C\", \"BB01\", \"--\", \"HHZ\", t1, t2, attach_response=True)\n",
    "\n",
    "\n",
    "'''\n",
    "Use local data mseed file.\n",
    "RESP File name: /data/fast1/time/RESP.YE.N303.GPZ.1000SPS.12DB\n",
    "\n",
    "data = obspy.read('/data/fast1/wip/2C.BB01..HHZ.MSEED') # Whillans Ice Plain\n",
    "data = obspy.read('/data/fast1/time/TIME_WAIS_2000_20190105_20190116.mseed') #TIME Data at WAIS\n",
    "\n",
    "'''\n",
    "\n",
    "# fdsn_client = Client('IRIS')\n",
    "# st = fdsn_client.get_waveforms('2E', '1970', '--', 'GPZ', t1, t2, attach_response = True)\n",
    "\n",
    "# st = _read_resp(\"/data/fast1/time/RESP.YE.N303.GPZ.1000SPS.12DB\")\n",
    "# date = t1\n",
    "# with NamedTemporaryFile() as tf:\n",
    "#     respf = tf.name\n",
    "# seedresp = {'/data/fast1/time/RESP.YE.N303.GPZ.1000SPS.12DB': respf,  # RESP filename\n",
    "#                 # when using Trace/Stream.simulate() the \"date\" parameter can\n",
    "#                 # also be omitted, and the starttime of the trace is then used.\n",
    "#                 'date': date,\n",
    "#                 # Units to return response in ('DIS', 'VEL' or ACC)\n",
    "#                 'units': 'DIS'\n",
    "#                 }\n",
    "# st.simulate(paz_remove=None, pre_filt=pre_filt, seedresp=seedresp)\n",
    "\n",
    "\n",
    "st = obspy.read('/data/fast1/time/TIME_WAIS_2000_20190105_20190116.mseed')\n",
    "tr = st[0]\n",
    "inv = _read_resp(\"/data/fast1/time/RESP.YE.N303.GPZ.1000SPS.12DB\")\n",
    "tr.attach_response(inv)\n",
    "pre_filt = [0.001, 0.005, 45, 50]\n",
    "tr.remove_response(inventory=inv, pre_filt=pre_filt, output=\"DISP\",\n",
    "                   water_level=60, plot=True)  \n"
   ]
  },
  {
   "cell_type": "code",
   "execution_count": 11,
   "id": "2181cb45",
   "metadata": {},
   "outputs": [
    {
     "name": "stdout",
     "output_type": "stream",
     "text": [
      "Inventory created at 2021-09-16T05:28:03.543289Z\n",
      "\tCreated by: ObsPy 1.2.2\n",
      "\t\t    https://www.obspy.org\n",
      "\tSending institution: ObsPy's obspy.io.xseed version 1.2.2\n",
      "\tContains:\n",
      "\t\tNetworks (1):\n",
      "\t\t\tYE\n",
      "\t\tStations (1):\n",
      "\t\t\tYE.N303 ()\n",
      "\t\tChannels (1):\n",
      "\t\t\tYE.N303..GPZ\n"
     ]
    }
   ],
   "source": [
    "# print(tr.stats.response) # does not show a response\n",
    "inv # does have some sort of information\n"
   ]
  },
  {
   "cell_type": "code",
   "execution_count": null,
   "id": "20cc4ff0",
   "metadata": {},
   "outputs": [],
   "source": [
    "'''\n",
    "Creates a list of all station files in given TIME directory.\n",
    "'''\n",
    "\n",
    "pth = \"/data/fast1/time/\"\n",
    "dirs = os.listdir(pth)\n",
    "print(dirs)"
   ]
  },
  {
   "cell_type": "code",
   "execution_count": null,
   "id": "13ad401d",
   "metadata": {},
   "outputs": [],
   "source": [
    "'''\n",
    "Statment to review stats of individual trace.\n",
    "'''\n",
    "\n",
    "print(data[18].stats)"
   ]
  },
  {
   "cell_type": "code",
   "execution_count": null,
   "id": "6fbd3bca",
   "metadata": {},
   "outputs": [],
   "source": [
    "'''\n",
    "Filters data, needs updating.\n",
    "'''\n",
    "\n",
    "# pre_filt = (1, 2, 250, 500)\n",
    "# data.remove_response(output='VEL', pre_filt=pre_filt)"
   ]
  },
  {
   "cell_type": "code",
   "execution_count": null,
   "id": "46876045",
   "metadata": {},
   "outputs": [],
   "source": [
    "'''\n",
    "Chooses which data set is being used and the time frame.\n",
    "Can trim desired time frame, while commented out, uses full trace.\n",
    "'''\n",
    "\n",
    "#For whillans:\n",
    "# t0 = UTCDateTime(\"2011-01-01T09:00:00\")\n",
    "# t1 = UTCDateTime(\"2011-01-01T12:00:00\")\n",
    "# tr = data[0].trim(t0,t1)\n",
    "\n",
    "#For time:\n",
    "# tr = data[18]\n",
    "\n",
    "# t0 = UTCDateTime(\"2019-01-07T02:00:00\")\n",
    "# t1 = UTCDateTime(\"2019-01-07T06:00:00\")\n",
    "# data[18] = data[18].trim(t0,t1)"
   ]
  },
  {
   "cell_type": "code",
   "execution_count": null,
   "id": "d50f3880",
   "metadata": {},
   "outputs": [],
   "source": [
    "'''\n",
    "Applies a high pass filter.\n",
    "'''\n",
    "data.filter(\"highpass\", freq = 5)"
   ]
  },
  {
   "cell_type": "code",
   "execution_count": null,
   "id": "c36da00e",
   "metadata": {
    "scrolled": true
   },
   "outputs": [],
   "source": [
    "'''\n",
    "Shows a trigger plot for each trace and saves them.\n",
    "det holds the start and stop times of when the STA/LTA ratio reaches the desired triggers.\n",
    "\n",
    "'''\n",
    "trig_on = 10\n",
    "trig_off = 5\n",
    "\n",
    "for file_name in dirs:\n",
    "    name = re.search(r'(?<=TIME_WAIS_)\\d+', file_name).group(0)\n",
    "    det_count = 0\n",
    "    st = obspy.read('/data/fast1/time/'+ file_name)\n",
    "    data = st.select(component=\"Z\")\n",
    "    data.filter(\"highpass\", freq = 5)\n",
    "    for tr in data:\n",
    "        '''\n",
    "        Applies STA/LTA method.\n",
    "        '''\n",
    "        df = tr.stats.sampling_rate\n",
    "        cft = classic_sta_lta(tr, (0.25 * df), (5 * df))\n",
    "        det = trigger_onset(cft, trig_on, trig_off)\n",
    "        plot_trigger(tr, cft, trig_on, trig_off)\n",
    "        # print((det/df/60))\n",
    "        for d in det:\n",
    "            det_count += 1\n",
    "            # print(d)\n",
    "            save_name = (\"Run/detection_%f.png\" %  det_count)\n",
    "            data.plot(starttime = tr.stats.starttime + d[0]/df, endtime = tr.stats.starttime + d[1]/df, outfile = save_name)\n",
    "        # plt.savefig(\"Trigger_Plot_Station_%s_trace_%f.png\" % (name, count))"
   ]
  },
  {
   "cell_type": "code",
   "execution_count": null,
   "id": "0ba5299b",
   "metadata": {},
   "outputs": [],
   "source": [
    "'''\n",
    "Loops through every trace to make a plot after applying STA/LTA. Could become a function held elsewhere.\n",
    "\n",
    "'''\n",
    "trig_on = 10\n",
    "trig_off = 5\n",
    "\n",
    "for file_name in dirs:\n",
    "    name = re.search(r'(?<=TIME_WAIS_)\\d+', file_name).group(0)\n",
    "    d = obspy.read('/data/fast1/time/'+ file_name)\n",
    "    data = d.select(component=\"Z\")\n",
    "    data.filter(\"highpass\", freq = 5)\n",
    "    for tr in data:\n",
    "        df = tr.stats.sampling_rate\n",
    "        cft = classic_sta_lta(tr, (0.25 * df), (5 * df))\n",
    "        plt.plot(cft)\n",
    "        plt.show()\n",
    "        print((det/df/60))\n",
    "        plt.savefig(\"pyplot_Station_%s_trace_%f.png\" % (name, i))"
   ]
  },
  {
   "cell_type": "code",
   "execution_count": null,
   "id": "758bc46f",
   "metadata": {},
   "outputs": [],
   "source": [
    "'''\n",
    "Plots a trigger plot and STA/LTA plot for a single trace. Could become a function held elsewhere. \n",
    "'''\n",
    "trig_on = 10\n",
    "trig_off = 5\n",
    "\n",
    "df = tr.stats.sampling_rate\n",
    "\n",
    "# Classic STA-LTA method\n",
    "cft = classic_sta_lta(tr, (0.25 * df), (5 * df))\n",
    "\n",
    "# Z-Detect method\n",
    "# cft = z_detect(data[0], (df*1))\n",
    "\n",
    "# Recursive STA-LTA method\n",
    "# cft = recursive_sta_lta(data[0], (5 * df), (10 * df))\n",
    "\n",
    "plt.plot(cft)\n",
    "# plt.savefig(\"pyplot_trace_18.jpeg\")\n",
    "plt.show()\n",
    "det = trigger_onset(cft, trig_on, trig_off)\n",
    "plot_trigger(tr, cft, trig_on, trig_off)\n",
    "# plt.savefig(\"triggerplot_trace_18.jpeg\")"
   ]
  },
  {
   "cell_type": "code",
   "execution_count": null,
   "id": "5c3c168d",
   "metadata": {},
   "outputs": [],
   "source": [
    "'''\n",
    "Prints time after UTC starttime in minutes for start and stop of events. \n",
    "'''\n",
    "\n",
    "print((det/df/60))\n",
    "print(len(det))"
   ]
  },
  {
   "cell_type": "code",
   "execution_count": null,
   "id": "e3a9f38c",
   "metadata": {
    "scrolled": false
   },
   "outputs": [],
   "source": [
    "'''\n",
    "Plots time surrounding events\n",
    "'''\n",
    "\n",
    "for d in det:\n",
    "    print(d)\n",
    "    data.plot(starttime = data[18].stats.starttime + d[0]/df, endtime = data[18].stats.starttime + d[1]/df)\n",
    "#     plt.plot(cft[d[0]:d[1]])\n",
    "#     plt.show()\n",
    "    #plt.savefig(\"detplot_trace_18_%f.jpeg\" %d)"
   ]
  },
  {
   "cell_type": "code",
   "execution_count": null,
   "id": "d25f51fb",
   "metadata": {},
   "outputs": [],
   "source": []
  }
 ],
 "metadata": {
  "kernelspec": {
   "display_name": "Python 3",
   "language": "python",
   "name": "python3"
  },
  "language_info": {
   "codemirror_mode": {
    "name": "ipython",
    "version": 3
   },
   "file_extension": ".py",
   "mimetype": "text/x-python",
   "name": "python",
   "nbconvert_exporter": "python",
   "pygments_lexer": "ipython3",
   "version": "3.9.2"
  }
 },
 "nbformat": 4,
 "nbformat_minor": 5
}
