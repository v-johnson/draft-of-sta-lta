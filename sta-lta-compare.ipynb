{
 "cells": [
  {
   "cell_type": "code",
   "execution_count": 1,
   "id": "69e67e23",
   "metadata": {},
   "outputs": [],
   "source": [
    "'''\n",
    "Last Updated 8/26/2021, V1\n",
    "Updates to filtering needed.\n",
    "\n",
    "This code applies an STA-LTA method to given data, applying a highpass filter and saves plots of traces and detections.\n",
    "\n",
    "'''"
   ]
  },
  {
   "cell_type": "code",
   "execution_count": 1,
   "id": "3ff65430",
   "metadata": {},
   "outputs": [],
   "source": [
    "import obspy\n",
    "from obspy import UTCDateTime\n",
    "from obspy.clients.fdsn import Client\n",
    "\n",
    "from obspy.signal.trigger import plot_trigger\n",
    "import matplotlib.pyplot as plt\n",
    "\n",
    "\n",
    "from obspy.signal.trigger import trigger_onset\n",
    "from obspy.signal.trigger import z_detect\n",
    "from obspy.signal.trigger import classic_sta_lta\n",
    "from obspy.signal.trigger import recursive_sta_lta\n",
    "\n",
    "from obspy import read, read_inventory\n",
    "\n",
    "import re\n",
    "import os\n",
    "\n",
    "#%matplotlib notebook"
   ]
  },
  {
   "cell_type": "code",
   "execution_count": 10,
   "id": "c213dfdd",
   "metadata": {},
   "outputs": [
    {
     "ename": "FileNotFoundError",
     "evalue": "[Errno 2] No such file or directory: '/data/fast1/datasets/RESP.YE.N303.GPZ.1000SPS.12DB'",
     "output_type": "error",
     "traceback": [
      "\u001b[0;31m---------------------------------------------------------------------------\u001b[0m",
      "\u001b[0;31mFileNotFoundError\u001b[0m                         Traceback (most recent call last)",
      "\u001b[0;32m<ipython-input-10-9c17fa653bea>\u001b[0m in \u001b[0;36m<module>\u001b[0;34m\u001b[0m\n\u001b[1;32m     27\u001b[0m \u001b[0;34m\u001b[0m\u001b[0m\n\u001b[1;32m     28\u001b[0m \u001b[0;34m\u001b[0m\u001b[0m\n\u001b[0;32m---> 29\u001b[0;31m \u001b[0mst\u001b[0m \u001b[0;34m=\u001b[0m \u001b[0mobspy\u001b[0m\u001b[0;34m.\u001b[0m\u001b[0mread\u001b[0m\u001b[0;34m(\u001b[0m\u001b[0;34m'/data/fast1/datasets/RESP.YE.N303.GPZ.1000SPS.12DB'\u001b[0m\u001b[0;34m)\u001b[0m\u001b[0;34m\u001b[0m\u001b[0;34m\u001b[0m\u001b[0m\n\u001b[0m\u001b[1;32m     30\u001b[0m \u001b[0mtr\u001b[0m \u001b[0;34m=\u001b[0m \u001b[0mst\u001b[0m\u001b[0;34m[\u001b[0m\u001b[0;36m0\u001b[0m\u001b[0;34m]\u001b[0m\u001b[0;34m\u001b[0m\u001b[0;34m\u001b[0m\u001b[0m\n\u001b[1;32m     31\u001b[0m \u001b[0minv\u001b[0m \u001b[0;34m=\u001b[0m \u001b[0mread_inventory\u001b[0m\u001b[0;34m(\u001b[0m\u001b[0;34m)\u001b[0m\u001b[0;34m\u001b[0m\u001b[0;34m\u001b[0m\u001b[0m\n",
      "\u001b[0;32m/usr/local/lib/python3.9/site-packages/decorator.py\u001b[0m in \u001b[0;36mfun\u001b[0;34m(*args, **kw)\u001b[0m\n\u001b[1;32m    230\u001b[0m             \u001b[0;32mif\u001b[0m \u001b[0;32mnot\u001b[0m \u001b[0mkwsyntax\u001b[0m\u001b[0;34m:\u001b[0m\u001b[0;34m\u001b[0m\u001b[0;34m\u001b[0m\u001b[0m\n\u001b[1;32m    231\u001b[0m                 \u001b[0margs\u001b[0m\u001b[0;34m,\u001b[0m \u001b[0mkw\u001b[0m \u001b[0;34m=\u001b[0m \u001b[0mfix\u001b[0m\u001b[0;34m(\u001b[0m\u001b[0margs\u001b[0m\u001b[0;34m,\u001b[0m \u001b[0mkw\u001b[0m\u001b[0;34m,\u001b[0m \u001b[0msig\u001b[0m\u001b[0;34m)\u001b[0m\u001b[0;34m\u001b[0m\u001b[0;34m\u001b[0m\u001b[0m\n\u001b[0;32m--> 232\u001b[0;31m             \u001b[0;32mreturn\u001b[0m \u001b[0mcaller\u001b[0m\u001b[0;34m(\u001b[0m\u001b[0mfunc\u001b[0m\u001b[0;34m,\u001b[0m \u001b[0;34m*\u001b[0m\u001b[0;34m(\u001b[0m\u001b[0mextras\u001b[0m \u001b[0;34m+\u001b[0m \u001b[0margs\u001b[0m\u001b[0;34m)\u001b[0m\u001b[0;34m,\u001b[0m \u001b[0;34m**\u001b[0m\u001b[0mkw\u001b[0m\u001b[0;34m)\u001b[0m\u001b[0;34m\u001b[0m\u001b[0;34m\u001b[0m\u001b[0m\n\u001b[0m\u001b[1;32m    233\u001b[0m     \u001b[0mfun\u001b[0m\u001b[0;34m.\u001b[0m\u001b[0m__name__\u001b[0m \u001b[0;34m=\u001b[0m \u001b[0mfunc\u001b[0m\u001b[0;34m.\u001b[0m\u001b[0m__name__\u001b[0m\u001b[0;34m\u001b[0m\u001b[0;34m\u001b[0m\u001b[0m\n\u001b[1;32m    234\u001b[0m     \u001b[0mfun\u001b[0m\u001b[0;34m.\u001b[0m\u001b[0m__doc__\u001b[0m \u001b[0;34m=\u001b[0m \u001b[0mfunc\u001b[0m\u001b[0;34m.\u001b[0m\u001b[0m__doc__\u001b[0m\u001b[0;34m\u001b[0m\u001b[0;34m\u001b[0m\u001b[0m\n",
      "\u001b[0;32m~/.local/lib/python3.9/site-packages/obspy/core/util/decorator.py\u001b[0m in \u001b[0;36m_map_example_filename\u001b[0;34m(func, *args, **kwargs)\u001b[0m\n\u001b[1;32m    298\u001b[0m                         \u001b[0;32mexcept\u001b[0m \u001b[0mIOError\u001b[0m\u001b[0;34m:\u001b[0m\u001b[0;34m\u001b[0m\u001b[0;34m\u001b[0m\u001b[0m\n\u001b[1;32m    299\u001b[0m                             \u001b[0;32mpass\u001b[0m\u001b[0;34m\u001b[0m\u001b[0;34m\u001b[0m\u001b[0m\n\u001b[0;32m--> 300\u001b[0;31m         \u001b[0;32mreturn\u001b[0m \u001b[0mfunc\u001b[0m\u001b[0;34m(\u001b[0m\u001b[0;34m*\u001b[0m\u001b[0margs\u001b[0m\u001b[0;34m,\u001b[0m \u001b[0;34m**\u001b[0m\u001b[0mkwargs\u001b[0m\u001b[0;34m)\u001b[0m\u001b[0;34m\u001b[0m\u001b[0;34m\u001b[0m\u001b[0m\n\u001b[0m\u001b[1;32m    301\u001b[0m     \u001b[0;32mreturn\u001b[0m \u001b[0m_map_example_filename\u001b[0m\u001b[0;34m\u001b[0m\u001b[0;34m\u001b[0m\u001b[0m\n\u001b[1;32m    302\u001b[0m \u001b[0;34m\u001b[0m\u001b[0m\n",
      "\u001b[0;32m~/.local/lib/python3.9/site-packages/obspy/core/stream.py\u001b[0m in \u001b[0;36mread\u001b[0;34m(pathname_or_url, format, headonly, starttime, endtime, nearest_sample, dtype, apply_calib, check_compression, **kwargs)\u001b[0m\n\u001b[1;32m    210\u001b[0m         \u001b[0mst\u001b[0m \u001b[0;34m=\u001b[0m \u001b[0m_create_example_stream\u001b[0m\u001b[0;34m(\u001b[0m\u001b[0mheadonly\u001b[0m\u001b[0;34m=\u001b[0m\u001b[0mheadonly\u001b[0m\u001b[0;34m)\u001b[0m\u001b[0;34m\u001b[0m\u001b[0;34m\u001b[0m\u001b[0m\n\u001b[1;32m    211\u001b[0m     \u001b[0;32melse\u001b[0m\u001b[0;34m:\u001b[0m\u001b[0;34m\u001b[0m\u001b[0;34m\u001b[0m\u001b[0m\n\u001b[0;32m--> 212\u001b[0;31m         \u001b[0mst\u001b[0m \u001b[0;34m=\u001b[0m \u001b[0m_generic_reader\u001b[0m\u001b[0;34m(\u001b[0m\u001b[0mpathname_or_url\u001b[0m\u001b[0;34m,\u001b[0m \u001b[0m_read\u001b[0m\u001b[0;34m,\u001b[0m \u001b[0;34m**\u001b[0m\u001b[0mkwargs\u001b[0m\u001b[0;34m)\u001b[0m\u001b[0;34m\u001b[0m\u001b[0;34m\u001b[0m\u001b[0m\n\u001b[0m\u001b[1;32m    213\u001b[0m \u001b[0;34m\u001b[0m\u001b[0m\n\u001b[1;32m    214\u001b[0m     \u001b[0;32mif\u001b[0m \u001b[0mlen\u001b[0m\u001b[0;34m(\u001b[0m\u001b[0mst\u001b[0m\u001b[0;34m)\u001b[0m \u001b[0;34m==\u001b[0m \u001b[0;36m0\u001b[0m\u001b[0;34m:\u001b[0m\u001b[0;34m\u001b[0m\u001b[0;34m\u001b[0m\u001b[0m\n",
      "\u001b[0;32m~/.local/lib/python3.9/site-packages/obspy/core/util/base.py\u001b[0m in \u001b[0;36m_generic_reader\u001b[0;34m(pathname_or_url, callback_func, **kwargs)\u001b[0m\n\u001b[1;32m    698\u001b[0m                 \u001b[0;32mraise\u001b[0m \u001b[0mException\u001b[0m\u001b[0;34m(\u001b[0m\u001b[0;34m\"No file matching file pattern: %s\"\u001b[0m \u001b[0;34m%\u001b[0m \u001b[0mpathname\u001b[0m\u001b[0;34m)\u001b[0m\u001b[0;34m\u001b[0m\u001b[0;34m\u001b[0m\u001b[0m\n\u001b[1;32m    699\u001b[0m             \u001b[0;32melif\u001b[0m \u001b[0;32mnot\u001b[0m \u001b[0mglob\u001b[0m\u001b[0;34m.\u001b[0m\u001b[0mhas_magic\u001b[0m\u001b[0;34m(\u001b[0m\u001b[0mpathname\u001b[0m\u001b[0;34m)\u001b[0m \u001b[0;32mand\u001b[0m \u001b[0;32mnot\u001b[0m \u001b[0mos\u001b[0m\u001b[0;34m.\u001b[0m\u001b[0mpath\u001b[0m\u001b[0;34m.\u001b[0m\u001b[0misfile\u001b[0m\u001b[0;34m(\u001b[0m\u001b[0mpathname\u001b[0m\u001b[0;34m)\u001b[0m\u001b[0;34m:\u001b[0m\u001b[0;34m\u001b[0m\u001b[0;34m\u001b[0m\u001b[0m\n\u001b[0;32m--> 700\u001b[0;31m                 \u001b[0;32mraise\u001b[0m \u001b[0mIOError\u001b[0m\u001b[0;34m(\u001b[0m\u001b[0;36m2\u001b[0m\u001b[0;34m,\u001b[0m \u001b[0;34m\"No such file or directory\"\u001b[0m\u001b[0;34m,\u001b[0m \u001b[0mpathname\u001b[0m\u001b[0;34m)\u001b[0m\u001b[0;34m\u001b[0m\u001b[0;34m\u001b[0m\u001b[0m\n\u001b[0m\u001b[1;32m    701\u001b[0m \u001b[0;34m\u001b[0m\u001b[0m\n\u001b[1;32m    702\u001b[0m         \u001b[0mgeneric\u001b[0m \u001b[0;34m=\u001b[0m \u001b[0mcallback_func\u001b[0m\u001b[0;34m(\u001b[0m\u001b[0mpathnames\u001b[0m\u001b[0;34m[\u001b[0m\u001b[0;36m0\u001b[0m\u001b[0;34m]\u001b[0m\u001b[0;34m,\u001b[0m \u001b[0;34m**\u001b[0m\u001b[0mkwargs\u001b[0m\u001b[0;34m)\u001b[0m\u001b[0;34m\u001b[0m\u001b[0;34m\u001b[0m\u001b[0m\n",
      "\u001b[0;31mFileNotFoundError\u001b[0m: [Errno 2] No such file or directory: '/data/fast1/datasets/RESP.YE.N303.GPZ.1000SPS.12DB'"
     ]
    }
   ],
   "source": [
    "'''\n",
    "Handles instrument response and reads desired files.\n",
    "'''\n",
    "\n",
    "# Applicable to Whillans Ice Plain Data only.\n",
    "# client = Client(\"IRIS\")\n",
    "# t1 = UTCDateTime(\"2011-01-01T00:00:00\")\n",
    "# t2 = UTCDateTime(\"2011-01-10T00:00:00\")\n",
    "# st = client.get_waveforms(\"2C\", \"BB01\", \"--\", \"HHZ\", t1, t2, attach_response=True)\n",
    "\n",
    "\n",
    "'''\n",
    "Use local data mseed file.\n",
    "RESP File name: /data/fast0/datasets/RESP.YE.N303.GPZ.1000SPS.12DB\n",
    "'''\n",
    "# pre_filt = (0.001, 0.002, 50, 100)\n",
    "# # pre_filt = (0.001, 0.002, 0.05, 0.1)\n",
    "# # st.remove_response(output='VEL', pre_filt=pre_filt)\n",
    "# st.remove_response(output='DISP', pre_filt=pre_filt)\n",
    "# # st.plot()\n",
    "\n",
    "# for tr in st: \n",
    "#     tr.write(tr.id + \".MSEED\", format=\"MSEED\") \n",
    "\n",
    "# data = obspy.read('/data/fast1/wip/2C.BB01..HHZ.MSEED') # Whillans Ice Plain\n",
    "data = obspy.read('/data/fast1/time/TIME_WAIS_2000_20190105_20190116.mseed') #TIME Data at WAIS\n",
    "\n",
    "\n",
    "st = obspy.read('/data/fast0/datasets/RESP.YE.N303.GPZ.1000SPS.12DB')\n",
    "tr = st[0]\n",
    "inv = read_inventory() \n",
    "pre_filt = [0.001, 0.005, 45, 50]\n",
    "tr.remove_response(inventory = inv,pre_filt=pre_filt, output=\"DISP\",\n",
    "                   water_level=60, plot=True)  \n",
    "\n",
    "\n",
    "\n",
    "'''\n",
    "Note: I have also tried using \"None\" as a parameter for inventory, as well as not including it at all. \n",
    "And trying to read the .12DB file\n",
    "'''"
   ]
  },
  {
   "cell_type": "code",
   "execution_count": null,
   "id": "20cc4ff0",
   "metadata": {},
   "outputs": [],
   "source": [
    "'''\n",
    "Creates a list of all station files in given TIME directory.\n",
    "'''\n",
    "\n",
    "pth = \"/data/fast1/time/\"\n",
    "dirs = os.listdir(pth)\n",
    "print(dirs)"
   ]
  },
  {
   "cell_type": "code",
   "execution_count": null,
   "id": "13ad401d",
   "metadata": {},
   "outputs": [],
   "source": [
    "'''\n",
    "Statment to review stats of individual trace.\n",
    "'''\n",
    "\n",
    "print(data[18].stats)"
   ]
  },
  {
   "cell_type": "code",
   "execution_count": null,
   "id": "6fbd3bca",
   "metadata": {},
   "outputs": [],
   "source": [
    "'''\n",
    "Filters data, needs updating.\n",
    "'''\n",
    "\n",
    "# pre_filt = (1, 2, 250, 500)\n",
    "# data.remove_response(output='VEL', pre_filt=pre_filt)"
   ]
  },
  {
   "cell_type": "code",
   "execution_count": null,
   "id": "46876045",
   "metadata": {},
   "outputs": [],
   "source": [
    "'''\n",
    "Chooses which data set is being used and the time frame.\n",
    "Can trim desired time frame, while commented out, uses full trace.\n",
    "'''\n",
    "\n",
    "#For whillans:\n",
    "# t0 = UTCDateTime(\"2011-01-01T09:00:00\")\n",
    "# t1 = UTCDateTime(\"2011-01-01T12:00:00\")\n",
    "# tr = data[0].trim(t0,t1)\n",
    "\n",
    "#For time:\n",
    "# tr = data[18]\n",
    "\n",
    "# t0 = UTCDateTime(\"2019-01-07T02:00:00\")\n",
    "# t1 = UTCDateTime(\"2019-01-07T06:00:00\")\n",
    "# data[18] = data[18].trim(t0,t1)"
   ]
  },
  {
   "cell_type": "code",
   "execution_count": null,
   "id": "d50f3880",
   "metadata": {},
   "outputs": [],
   "source": [
    "'''\n",
    "Applies a high pass filter.\n",
    "'''\n",
    "data.filter(\"highpass\", freq = 5)"
   ]
  },
  {
   "cell_type": "code",
   "execution_count": null,
   "id": "c36da00e",
   "metadata": {
    "scrolled": true
   },
   "outputs": [],
   "source": [
    "'''\n",
    "Shows a trigger plot for each trace and saves them.\n",
    "det holds the start and stop times of when the STA/LTA ratio reaches the desired triggers.\n",
    "\n",
    "'''\n",
    "trig_on = 10\n",
    "trig_off = 5\n",
    "\n",
    "for file_name in dirs:\n",
    "    name = re.search(r'(?<=TIME_WAIS_)\\d+', file_name).group(0)\n",
    "    det_count = 0\n",
    "    st = obspy.read('/data/fast1/time/'+ file_name)\n",
    "    data = st.select(component=\"Z\")\n",
    "    data.filter(\"highpass\", freq = 5)\n",
    "    for tr in data:\n",
    "        '''\n",
    "        Applies STA/LTA method.\n",
    "        '''\n",
    "        df = tr.stats.sampling_rate\n",
    "        cft = classic_sta_lta(tr, (0.25 * df), (5 * df))\n",
    "        det = trigger_onset(cft, trig_on, trig_off)\n",
    "        plot_trigger(tr, cft, trig_on, trig_off)\n",
    "        # print((det/df/60))\n",
    "        for d in det:\n",
    "            det_count += 1\n",
    "            # print(d)\n",
    "            save_name = (\"Run/detection_%f.png\" %  det_count)\n",
    "            data.plot(starttime = tr.stats.starttime + d[0]/df, endtime = tr.stats.starttime + d[1]/df, outfile = save_name)\n",
    "        # plt.savefig(\"Trigger_Plot_Station_%s_trace_%f.png\" % (name, count))"
   ]
  },
  {
   "cell_type": "code",
   "execution_count": null,
   "id": "0ba5299b",
   "metadata": {},
   "outputs": [],
   "source": [
    "'''\n",
    "Loops through every trace to make a plot after applying STA/LTA. Could become a function held elsewhere.\n",
    "\n",
    "'''\n",
    "trig_on = 10\n",
    "trig_off = 5\n",
    "\n",
    "for file_name in dirs:\n",
    "    name = re.search(r'(?<=TIME_WAIS_)\\d+', file_name).group(0)\n",
    "    d = obspy.read('/data/fast1/time/'+ file_name)\n",
    "    data = d.select(component=\"Z\")\n",
    "    data.filter(\"highpass\", freq = 5)\n",
    "    for tr in data:\n",
    "        df = tr.stats.sampling_rate\n",
    "        cft = classic_sta_lta(tr, (0.25 * df), (5 * df))\n",
    "        plt.plot(cft)\n",
    "        plt.show()\n",
    "        print((det/df/60))\n",
    "        plt.savefig(\"pyplot_Station_%s_trace_%f.png\" % (name, i))"
   ]
  },
  {
   "cell_type": "code",
   "execution_count": null,
   "id": "758bc46f",
   "metadata": {},
   "outputs": [],
   "source": [
    "'''\n",
    "Plots a trigger plot and STA/LTA plot for a single trace. Could become a function held elsewhere. \n",
    "'''\n",
    "trig_on = 10\n",
    "trig_off = 5\n",
    "\n",
    "df = tr.stats.sampling_rate\n",
    "\n",
    "# Classic STA-LTA method\n",
    "cft = classic_sta_lta(tr, (0.25 * df), (5 * df))\n",
    "\n",
    "# Z-Detect method\n",
    "# cft = z_detect(data[0], (df*1))\n",
    "\n",
    "# Recursive STA-LTA method\n",
    "# cft = recursive_sta_lta(data[0], (5 * df), (10 * df))\n",
    "\n",
    "plt.plot(cft)\n",
    "# plt.savefig(\"pyplot_trace_18.jpeg\")\n",
    "plt.show()\n",
    "det = trigger_onset(cft, trig_on, trig_off)\n",
    "plot_trigger(tr, cft, trig_on, trig_off)\n",
    "# plt.savefig(\"triggerplot_trace_18.jpeg\")"
   ]
  },
  {
   "cell_type": "code",
   "execution_count": null,
   "id": "5c3c168d",
   "metadata": {},
   "outputs": [],
   "source": [
    "'''\n",
    "Prints time after UTC starttime in minutes for start and stop of events. \n",
    "'''\n",
    "\n",
    "print((det/df/60))\n",
    "print(len(det))"
   ]
  },
  {
   "cell_type": "code",
   "execution_count": null,
   "id": "e3a9f38c",
   "metadata": {
    "scrolled": false
   },
   "outputs": [],
   "source": [
    "'''\n",
    "Plots time surrounding events\n",
    "'''\n",
    "\n",
    "for d in det:\n",
    "    print(d)\n",
    "    data.plot(starttime = data[18].stats.starttime + d[0]/df, endtime = data[18].stats.starttime + d[1]/df)\n",
    "#     plt.plot(cft[d[0]:d[1]])\n",
    "#     plt.show()\n",
    "    #plt.savefig(\"detplot_trace_18_%f.jpeg\" %d)"
   ]
  },
  {
   "cell_type": "code",
   "execution_count": null,
   "id": "d25f51fb",
   "metadata": {},
   "outputs": [],
   "source": []
  }
 ],
 "metadata": {
  "kernelspec": {
   "display_name": "Python 3",
   "language": "python",
   "name": "python3"
  },
  "language_info": {
   "codemirror_mode": {
    "name": "ipython",
    "version": 3
   },
   "file_extension": ".py",
   "mimetype": "text/x-python",
   "name": "python",
   "nbconvert_exporter": "python",
   "pygments_lexer": "ipython3",
   "version": "3.9.2"
  }
 },
 "nbformat": 4,
 "nbformat_minor": 5
}
